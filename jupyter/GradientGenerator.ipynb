{
 "cells": [
  {
   "cell_type": "code",
   "execution_count": 1,
   "metadata": {},
   "outputs": [],
   "source": [
    "import tensorflow as tf\n",
    "import numpy as np\n",
    "import matplotlib.pyplot as plt\n",
    "\n",
    "sess = tf.Session()\n",
    "\n",
    "train, test = tf.keras.datasets.mnist.load_data()\n",
    "x_train = train[0]/255.\n",
    "x_train = x_train[..., None]\n"
   ]
  },
  {
   "cell_type": "code",
   "execution_count": 2,
   "metadata": {},
   "outputs": [
    {
     "name": "stdout",
     "output_type": "stream",
     "text": [
      "WARNING:tensorflow:From /home/c7021101/anaconda3/envs/master/lib/python3.6/site-packages/tensorflow/python/ops/resource_variable_ops.py:435: colocate_with (from tensorflow.python.framework.ops) is deprecated and will be removed in a future version.\n",
      "Instructions for updating:\n",
      "Colocations handled automatically by placer.\n"
     ]
    }
   ],
   "source": [
    "latent = 49\n",
    "img_size = (28, 28, 1)\n",
    "classes = 10\n",
    "\n",
    "\n",
    "def conv_layer(inp, filters, kernel_size=(3, 3), dropout=0, transpose=False, **kwargs):\n",
    "    out = tf.keras.layers.Conv2D(filters, kernel_size=kernel_size, padding='same', **kwargs)(inp)\n",
    "    if transpose:\n",
    "        out = tf.keras.layers.Conv2DTranspose(filters, kernel_size=kernel_size, padding='valid', **kwargs)(inp)\n",
    "    if dropout:\n",
    "        out = tf.keras.layers.Dropout(rate=dropout)(out)\n",
    "    out = tf.keras.layers.PReLU(shared_axes=[1, 2])(out)\n",
    "    return out\n",
    "\n",
    "\n",
    "# Define discriminator\n",
    "def get_discriminator(img_dim=(28, 28, 1), class_dim=10, filters=32):\n",
    "    x_input = tf.keras.layers.Input(img_dim)\n",
    "\n",
    "    d = conv_layer(x_input, filters=filters)\n",
    "    d = conv_layer(d, filters=filters)\n",
    "    d = conv_layer(d, filters=filters, strides=(2, 2))\n",
    "    d = conv_layer(d, filters=filters, strides=(2, 2))\n",
    "    d = tf.keras.layers.Flatten()(d)\n",
    "    d = tf.keras.layers.Dense(class_dim, activation='relu')(d)\n",
    "\n",
    "    y_input = tf.keras.layers.Input(img_dim)\n",
    "    dy = conv_layer(y_input, filters=filters)\n",
    "    dy = conv_layer(dy, filters=filters)\n",
    "    dy = conv_layer(dy, filters=filters, strides=(2, 2))\n",
    "    dy = conv_layer(dy, filters=filters, strides=(2, 2))\n",
    "    dy = tf.keras.layers.Flatten()(dy)\n",
    "    dy = tf.keras.layers.Dense(class_dim, activation='relu')(dy)\n",
    "\n",
    "    out = tf.keras.layers.Concatenate()([d, dy])\n",
    "    out = tf.keras.layers.Dense(256, activation='relu')(out)\n",
    "    out = tf.keras.layers.Dense(1, activation='relu')(out)\n",
    "    \n",
    "    r = conv_layer(x_input, filters=filters, strides=(4, 4))\n",
    "    r = tf.keras.layers.Flatten()(r)\n",
    "    r = tf.keras.layers.Dense(1, activation='relu')(r)\n",
    "    \n",
    "    out = tf.keras.layers.Add()([out, r])\n",
    "    \n",
    "\n",
    "    discriminator = tf.keras.Model(inputs=[x_input, y_input], outputs=out)\n",
    "    return discriminator\n",
    "\n",
    "disc = get_discriminator()\n",
    "dvars = disc.trainable_variables"
   ]
  },
  {
   "cell_type": "code",
   "execution_count": 3,
   "metadata": {},
   "outputs": [],
   "source": [
    "class gradient_descent(tf.keras.layers.Layer):\n",
    "    def __init__(self, discriminator, iterations=10, eta=1e-3, sigma=0.1):\n",
    "        super(gradient_descent, self).__init__()\n",
    "        self.iterations = iterations\n",
    "        self.eta = eta\n",
    "        self.discriminator = discriminator\n",
    "        self.sigma = sigma\n",
    "\n",
    "    def build(self, input_shape):\n",
    "        # Build gradients here for hopefully faster execution\n",
    "        self.discriminator.trainable = False\n",
    "        pass\n",
    "\n",
    "\n",
    "    def call(self, input):\n",
    "        out = input[0]\n",
    "        y = input[1]\n",
    "        #tik = self.discriminator([out, y])\n",
    "        err = [self.discriminator([out, y])]\n",
    "        for iteration in range(self.iterations):\n",
    "            grads = tf.gradients(self.discriminator([out, y]), out)[0]\n",
    "            out = out - self.eta*(grads + self.sigma*out)\n",
    "            err.append(self.discriminator([out, y]))\n",
    "        return out\n"
   ]
  },
  {
   "cell_type": "code",
   "execution_count": 4,
   "metadata": {},
   "outputs": [],
   "source": [
    "def get_generator(discriminator, K=10, img_dim=(28, 28, 1), filters=32):\n",
    "    y_input = tf.keras.layers.Input(img_dim)\n",
    "    d = conv_layer(y_input, filters=filters)\n",
    "    d = conv_layer(d, filters=filters)\n",
    "    d = conv_layer(d, filters=filters)\n",
    "    d = conv_layer(d, filters=filters)\n",
    "    x0 = conv_layer(d, filters=1)\n",
    "    \n",
    "    # Gradient descent\n",
    "    eta = 1e-1\n",
    "    out = gradient_descent(discriminator, eta=eta)([x0, y_input])\n",
    "        \n",
    "    generator = tf.keras.Model(inputs=y_input, outputs=[out, x0])\n",
    "    return generator"
   ]
  },
  {
   "cell_type": "code",
   "execution_count": 5,
   "metadata": {},
   "outputs": [],
   "source": [
    "gen = get_generator(disc)\n",
    "gvars = gen.trainable_variables"
   ]
  },
  {
   "cell_type": "code",
   "execution_count": 6,
   "metadata": {},
   "outputs": [
    {
     "name": "stdout",
     "output_type": "stream",
     "text": [
      "WARNING:tensorflow:From /home/c7021101/anaconda3/envs/master/lib/python3.6/site-packages/tensorflow/python/ops/math_ops.py:3066: to_int32 (from tensorflow.python.ops.math_ops) is deprecated and will be removed in a future version.\n",
      "Instructions for updating:\n",
      "Use tf.cast instead.\n"
     ]
    }
   ],
   "source": [
    "# Discriminator tries to map x_true to output 1 and generator_out to output 0\n",
    "# Generator tries to find images such that discriminator thinks they are output 1\n",
    "LAM = 1e2\n",
    "lr = 1e-3\n",
    "\n",
    "x = tf.placeholder(tf.float32, (None, ) + img_size)\n",
    "y = tf.placeholder(tf.float32, (None, ) + img_size)\n",
    "\n",
    "line = tf.placeholder(tf.float32, (None, 1, 1, 1))\n",
    "\n",
    "x_gen = gen(y)[0]\n",
    "x_init = gen(y)[1]\n",
    "x_line = x*line + x_gen*(1-line)\n",
    "\n",
    "\n",
    "lip = LAM*sum([(tf.reduce_mean(g**2)-1)**2 for g in tf.gradients(disc([x_line, y]), [x_line, y])])\n",
    "\n",
    "loss_disc = tf.reduce_mean(-disc([x_gen, y]) + disc([x, y]) + lip)\n",
    "loss_gen = tf.reduce_mean(disc([x_gen, y]))\n",
    "\n",
    "\n",
    "opt = tf.train.AdamOptimizer(learning_rate=lr)\n",
    "\n",
    "grads_gen, _ = tf.clip_by_global_norm(tf.gradients(loss_gen, gvars), 1.)\n",
    "grads_disc, _ = tf.clip_by_global_norm(tf.gradients(loss_disc, dvars), 1.)\n",
    "\n",
    "train_gen = opt.apply_gradients(zip(grads_gen, gvars))\n",
    "train_disc = opt.apply_gradients(zip(grads_disc, dvars))\n",
    "\n",
    "############\n",
    "# Active gradients\n",
    "\n",
    "total_gen = int(np.sum([np.prod(t.shape) for t in gvars]))\n",
    "active_gen = sum([tf.count_nonzero(grad) for grad in grads_gen if grad is not None])/total_gen\n",
    "\n",
    "total_disc = int(np.sum([np.prod(t.shape) for t in dvars]))\n",
    "active_disc = sum([tf.count_nonzero(grad) for grad in grads_disc if grad is not None])/total_disc\n",
    "\n",
    "sess.run(tf.global_variables_initializer())"
   ]
  },
  {
   "cell_type": "code",
   "execution_count": 7,
   "metadata": {},
   "outputs": [],
   "source": [
    "def generate_batch(batch_size=8):\n",
    "    x = x_train[np.random.choice(60000, batch_size), ...]\n",
    "    y = x + np.random.normal(0, 0.2, x.shape)\n",
    "    return x, y"
   ]
  },
  {
   "cell_type": "code",
   "execution_count": 8,
   "metadata": {},
   "outputs": [
    {
     "name": "stdout",
     "output_type": "stream",
     "text": [
      "### Epoch 0 ###\n",
      "[ 0.  0.] 0.976000, Disc: 185.904984, Gen: 43.2299126\n"
     ]
    },
    {
     "data": {
      "image/png": "[encoded data removed]",
      "text/plain": [
       "<Figure size 432x288 with 10 Axes>"
      ]
     },
     "metadata": {
      "needs_background": "light"
     },
     "output_type": "display_data"
    },
    {
     "name": "stdout",
     "output_type": "stream",
     "text": [
      "###############\n",
      "### Epoch 1 ###\n",
      "[ 0.  0.] 0.976000, Disc: 200.000000, Gen: 0.000000\n"
     ]
    },
    {
     "data": {
      "image/png": "[encoded data removed]",
      "text/plain": [
       "<Figure size 432x288 with 10 Axes>"
      ]
     },
     "metadata": {
      "needs_background": "light"
     },
     "output_type": "display_data"
    },
    {
     "name": "stdout",
     "output_type": "stream",
     "text": [
      "###############\n",
      "### Epoch 2 ###\n",
      "Progress: 0.160000, Disc: 200.000000, Gen: 0.000000\r"
     ]
    },
    {
     "ename": "KeyboardInterrupt",
     "evalue": "",
     "output_type": "error",
     "traceback": [
      "\u001b[0;31m---------------------------------------------------------------------------\u001b[0m",
      "\u001b[0;31mKeyboardInterrupt\u001b[0m                         Traceback (most recent call last)",
      "\u001b[0;32m<ipython-input-8-20b53c59977d>\u001b[0m in \u001b[0;36m<module>\u001b[0;34m()\u001b[0m\n\u001b[1;32m     17\u001b[0m                  \u001b[0my\u001b[0m\u001b[0;34m:\u001b[0m \u001b[0myinp\u001b[0m\u001b[0;34m,\u001b[0m\u001b[0;34m\u001b[0m\u001b[0;34m\u001b[0m\u001b[0m\n\u001b[1;32m     18\u001b[0m                  line: t}\n\u001b[0;32m---> 19\u001b[0;31m             \u001b[0mld\u001b[0m\u001b[0;34m,\u001b[0m \u001b[0m_\u001b[0m \u001b[0;34m=\u001b[0m \u001b[0msess\u001b[0m\u001b[0;34m.\u001b[0m\u001b[0mrun\u001b[0m\u001b[0;34m(\u001b[0m\u001b[0;34m[\u001b[0m\u001b[0mloss_disc\u001b[0m\u001b[0;34m,\u001b[0m \u001b[0mtrain_disc\u001b[0m\u001b[0;34m]\u001b[0m\u001b[0;34m,\u001b[0m \u001b[0mfeed_dict\u001b[0m\u001b[0;34m=\u001b[0m\u001b[0mfd\u001b[0m\u001b[0;34m)\u001b[0m\u001b[0;34m\u001b[0m\u001b[0;34m\u001b[0m\u001b[0m\n\u001b[0m\u001b[1;32m     20\u001b[0m             \u001b[0mCRITIC\u001b[0m\u001b[0;34m.\u001b[0m\u001b[0mappend\u001b[0m\u001b[0;34m(\u001b[0m\u001b[0mld\u001b[0m\u001b[0;34m)\u001b[0m\u001b[0;34m\u001b[0m\u001b[0;34m\u001b[0m\u001b[0m\n\u001b[1;32m     21\u001b[0m \u001b[0;34m\u001b[0m\u001b[0m\n",
      "\u001b[0;32m/home/c7021101/anaconda3/envs/master/lib/python3.6/site-packages/tensorflow/python/client/session.py\u001b[0m in \u001b[0;36mrun\u001b[0;34m(self, fetches, feed_dict, options, run_metadata)\u001b[0m\n\u001b[1;32m    927\u001b[0m     \u001b[0;32mtry\u001b[0m\u001b[0;34m:\u001b[0m\u001b[0;34m\u001b[0m\u001b[0;34m\u001b[0m\u001b[0m\n\u001b[1;32m    928\u001b[0m       result = self._run(None, fetches, feed_dict, options_ptr,\n\u001b[0;32m--> 929\u001b[0;31m                          run_metadata_ptr)\n\u001b[0m\u001b[1;32m    930\u001b[0m       \u001b[0;32mif\u001b[0m \u001b[0mrun_metadata\u001b[0m\u001b[0;34m:\u001b[0m\u001b[0;34m\u001b[0m\u001b[0;34m\u001b[0m\u001b[0m\n\u001b[1;32m    931\u001b[0m         \u001b[0mproto_data\u001b[0m \u001b[0;34m=\u001b[0m \u001b[0mtf_session\u001b[0m\u001b[0;34m.\u001b[0m\u001b[0mTF_GetBuffer\u001b[0m\u001b[0;34m(\u001b[0m\u001b[0mrun_metadata_ptr\u001b[0m\u001b[0;34m)\u001b[0m\u001b[0;34m\u001b[0m\u001b[0;34m\u001b[0m\u001b[0m\n",
      "\u001b[0;32m/home/c7021101/anaconda3/envs/master/lib/python3.6/site-packages/tensorflow/python/client/session.py\u001b[0m in \u001b[0;36m_run\u001b[0;34m(self, handle, fetches, feed_dict, options, run_metadata)\u001b[0m\n\u001b[1;32m   1150\u001b[0m     \u001b[0;32mif\u001b[0m \u001b[0mfinal_fetches\u001b[0m \u001b[0;32mor\u001b[0m \u001b[0mfinal_targets\u001b[0m \u001b[0;32mor\u001b[0m \u001b[0;34m(\u001b[0m\u001b[0mhandle\u001b[0m \u001b[0;32mand\u001b[0m \u001b[0mfeed_dict_tensor\u001b[0m\u001b[0;34m)\u001b[0m\u001b[0;34m:\u001b[0m\u001b[0;34m\u001b[0m\u001b[0;34m\u001b[0m\u001b[0m\n\u001b[1;32m   1151\u001b[0m       results = self._do_run(handle, final_targets, final_fetches,\n\u001b[0;32m-> 1152\u001b[0;31m                              feed_dict_tensor, options, run_metadata)\n\u001b[0m\u001b[1;32m   1153\u001b[0m     \u001b[0;32melse\u001b[0m\u001b[0;34m:\u001b[0m\u001b[0;34m\u001b[0m\u001b[0;34m\u001b[0m\u001b[0m\n\u001b[1;32m   1154\u001b[0m       \u001b[0mresults\u001b[0m \u001b[0;34m=\u001b[0m \u001b[0;34m[\u001b[0m\u001b[0;34m]\u001b[0m\u001b[0;34m\u001b[0m\u001b[0;34m\u001b[0m\u001b[0m\n",
      "\u001b[0;32m/home/c7021101/anaconda3/envs/master/lib/python3.6/site-packages/tensorflow/python/client/session.py\u001b[0m in \u001b[0;36m_do_run\u001b[0;34m(self, handle, target_list, fetch_list, feed_dict, options, run_metadata)\u001b[0m\n\u001b[1;32m   1326\u001b[0m     \u001b[0;32mif\u001b[0m \u001b[0mhandle\u001b[0m \u001b[0;32mis\u001b[0m \u001b[0;32mNone\u001b[0m\u001b[0;34m:\u001b[0m\u001b[0;34m\u001b[0m\u001b[0;34m\u001b[0m\u001b[0m\n\u001b[1;32m   1327\u001b[0m       return self._do_call(_run_fn, feeds, fetches, targets, options,\n\u001b[0;32m-> 1328\u001b[0;31m                            run_metadata)\n\u001b[0m\u001b[1;32m   1329\u001b[0m     \u001b[0;32melse\u001b[0m\u001b[0;34m:\u001b[0m\u001b[0;34m\u001b[0m\u001b[0;34m\u001b[0m\u001b[0m\n\u001b[1;32m   1330\u001b[0m       \u001b[0;32mreturn\u001b[0m \u001b[0mself\u001b[0m\u001b[0;34m.\u001b[0m\u001b[0m_do_call\u001b[0m\u001b[0;34m(\u001b[0m\u001b[0m_prun_fn\u001b[0m\u001b[0;34m,\u001b[0m \u001b[0mhandle\u001b[0m\u001b[0;34m,\u001b[0m \u001b[0mfeeds\u001b[0m\u001b[0;34m,\u001b[0m \u001b[0mfetches\u001b[0m\u001b[0;34m)\u001b[0m\u001b[0;34m\u001b[0m\u001b[0;34m\u001b[0m\u001b[0m\n",
      "\u001b[0;32m/home/c7021101/anaconda3/envs/master/lib/python3.6/site-packages/tensorflow/python/client/session.py\u001b[0m in \u001b[0;36m_do_call\u001b[0;34m(self, fn, *args)\u001b[0m\n\u001b[1;32m   1332\u001b[0m   \u001b[0;32mdef\u001b[0m \u001b[0m_do_call\u001b[0m\u001b[0;34m(\u001b[0m\u001b[0mself\u001b[0m\u001b[0;34m,\u001b[0m \u001b[0mfn\u001b[0m\u001b[0;34m,\u001b[0m \u001b[0;34m*\u001b[0m\u001b[0margs\u001b[0m\u001b[0;34m)\u001b[0m\u001b[0;34m:\u001b[0m\u001b[0;34m\u001b[0m\u001b[0;34m\u001b[0m\u001b[0m\n\u001b[1;32m   1333\u001b[0m     \u001b[0;32mtry\u001b[0m\u001b[0;34m:\u001b[0m\u001b[0;34m\u001b[0m\u001b[0;34m\u001b[0m\u001b[0m\n\u001b[0;32m-> 1334\u001b[0;31m       \u001b[0;32mreturn\u001b[0m \u001b[0mfn\u001b[0m\u001b[0;34m(\u001b[0m\u001b[0;34m*\u001b[0m\u001b[0margs\u001b[0m\u001b[0;34m)\u001b[0m\u001b[0;34m\u001b[0m\u001b[0;34m\u001b[0m\u001b[0m\n\u001b[0m\u001b[1;32m   1335\u001b[0m     \u001b[0;32mexcept\u001b[0m \u001b[0merrors\u001b[0m\u001b[0;34m.\u001b[0m\u001b[0mOpError\u001b[0m \u001b[0;32mas\u001b[0m \u001b[0me\u001b[0m\u001b[0;34m:\u001b[0m\u001b[0;34m\u001b[0m\u001b[0;34m\u001b[0m\u001b[0m\n\u001b[1;32m   1336\u001b[0m       \u001b[0mmessage\u001b[0m \u001b[0;34m=\u001b[0m \u001b[0mcompat\u001b[0m\u001b[0;34m.\u001b[0m\u001b[0mas_text\u001b[0m\u001b[0;34m(\u001b[0m\u001b[0me\u001b[0m\u001b[0;34m.\u001b[0m\u001b[0mmessage\u001b[0m\u001b[0;34m)\u001b[0m\u001b[0;34m\u001b[0m\u001b[0;34m\u001b[0m\u001b[0m\n",
      "\u001b[0;32m/home/c7021101/anaconda3/envs/master/lib/python3.6/site-packages/tensorflow/python/client/session.py\u001b[0m in \u001b[0;36m_run_fn\u001b[0;34m(feed_dict, fetch_list, target_list, options, run_metadata)\u001b[0m\n\u001b[1;32m   1317\u001b[0m       \u001b[0mself\u001b[0m\u001b[0;34m.\u001b[0m\u001b[0m_extend_graph\u001b[0m\u001b[0;34m(\u001b[0m\u001b[0;34m)\u001b[0m\u001b[0;34m\u001b[0m\u001b[0;34m\u001b[0m\u001b[0m\n\u001b[1;32m   1318\u001b[0m       return self._call_tf_sessionrun(\n\u001b[0;32m-> 1319\u001b[0;31m           options, feed_dict, fetch_list, target_list, run_metadata)\n\u001b[0m\u001b[1;32m   1320\u001b[0m \u001b[0;34m\u001b[0m\u001b[0m\n\u001b[1;32m   1321\u001b[0m     \u001b[0;32mdef\u001b[0m \u001b[0m_prun_fn\u001b[0m\u001b[0;34m(\u001b[0m\u001b[0mhandle\u001b[0m\u001b[0;34m,\u001b[0m \u001b[0mfeed_dict\u001b[0m\u001b[0;34m,\u001b[0m \u001b[0mfetch_list\u001b[0m\u001b[0;34m)\u001b[0m\u001b[0;34m:\u001b[0m\u001b[0;34m\u001b[0m\u001b[0;34m\u001b[0m\u001b[0m\n",
      "\u001b[0;32m/home/c7021101/anaconda3/envs/master/lib/python3.6/site-packages/tensorflow/python/client/session.py\u001b[0m in \u001b[0;36m_call_tf_sessionrun\u001b[0;34m(self, options, feed_dict, fetch_list, target_list, run_metadata)\u001b[0m\n\u001b[1;32m   1405\u001b[0m     return tf_session.TF_SessionRun_wrapper(\n\u001b[1;32m   1406\u001b[0m         \u001b[0mself\u001b[0m\u001b[0;34m.\u001b[0m\u001b[0m_session\u001b[0m\u001b[0;34m,\u001b[0m \u001b[0moptions\u001b[0m\u001b[0;34m,\u001b[0m \u001b[0mfeed_dict\u001b[0m\u001b[0;34m,\u001b[0m \u001b[0mfetch_list\u001b[0m\u001b[0;34m,\u001b[0m \u001b[0mtarget_list\u001b[0m\u001b[0;34m,\u001b[0m\u001b[0;34m\u001b[0m\u001b[0;34m\u001b[0m\u001b[0m\n\u001b[0;32m-> 1407\u001b[0;31m         run_metadata)\n\u001b[0m\u001b[1;32m   1408\u001b[0m \u001b[0;34m\u001b[0m\u001b[0m\n\u001b[1;32m   1409\u001b[0m   \u001b[0;32mdef\u001b[0m \u001b[0m_call_tf_sessionprun\u001b[0m\u001b[0;34m(\u001b[0m\u001b[0mself\u001b[0m\u001b[0;34m,\u001b[0m \u001b[0mhandle\u001b[0m\u001b[0;34m,\u001b[0m \u001b[0mfeed_dict\u001b[0m\u001b[0;34m,\u001b[0m \u001b[0mfetch_list\u001b[0m\u001b[0;34m)\u001b[0m\u001b[0;34m:\u001b[0m\u001b[0;34m\u001b[0m\u001b[0;34m\u001b[0m\u001b[0m\n",
      "\u001b[0;31mKeyboardInterrupt\u001b[0m: "
     ]
    }
   ],
   "source": [
    "epochs = 20\n",
    "N = 2000\n",
    "batch_size = 32\n",
    "ncritic = 5\n",
    "\n",
    "for epoch in range(epochs):\n",
    "    LOSSD = []\n",
    "    LOSSG = []\n",
    "    print(\"### Epoch %d ###\" % epoch)\n",
    "\n",
    "    for batch in range(N // batch_size):\n",
    "        CRITIC = []\n",
    "        for i in range(ncritic):\n",
    "            xinp, yinp = generate_batch(batch_size=batch_size)\n",
    "            t = np.random.uniform(0, 1, (batch_size, 1, 1, 1))\n",
    "            fd = {x: xinp,\n",
    "                 y: yinp,\n",
    "                 line: t}\n",
    "            ld, _ = sess.run([loss_disc, train_disc], feed_dict=fd)\n",
    "            CRITIC.append(ld)\n",
    "            \n",
    "        _, yinp = generate_batch(batch_size=batch_size)\n",
    "        lg, _ = sess.run([loss_gen, train_gen], feed_dict={y: yinp})\n",
    "\n",
    "        LOSSG.append(lg)\n",
    "        LOSSD.append(np.mean(CRITIC))\n",
    "        print(\"Progress: %f, Disc: %f, Gen: %f\" % (batch*batch_size/N, np.mean(LOSSD), np.mean(LOSSG)), end='\\r')\n",
    "    \n",
    "    xinp, yinp = generate_batch(batch_size=1)\n",
    "    gx = sess.run([x_init, x_gen], feed_dict={y: yinp})\n",
    "    dx = sess.run(disc([x, y]), feed_dict={y: np.concatenate([yinp, yinp]), x: np.concatenate(gx)})\n",
    "    print(dx.flatten())\n",
    "    plt.subplot(151)\n",
    "    plt.imshow(xinp[0, ..., 0])\n",
    "    plt.title(\"True\")\n",
    "    plt.colorbar()\n",
    "    \n",
    "    plt.subplot(152)\n",
    "    plt.imshow(yinp[0, ..., 0])\n",
    "    plt.title(\"Data\")\n",
    "    plt.colorbar()\n",
    "\n",
    "    plt.subplot(153)\n",
    "    plt.imshow(gx[0][0, ..., 0])\n",
    "    plt.title(\"Initial\")\n",
    "    plt.colorbar()\n",
    "    \n",
    "    plt.subplot(154)\n",
    "    plt.imshow(gx[1][0, ..., 0])\n",
    "    plt.title(\"Predicted\")\n",
    "    plt.colorbar()\n",
    "    \n",
    "    plt.subplot(155)\n",
    "    plt.imshow(gx[1][0, ..., 0] - gx[0][0, ..., 0])\n",
    "    plt.title(\"Diff\")\n",
    "    plt.colorbar()\n",
    "\n",
    "    plt.show()\n",
    "\n",
    "    print(\"###############\")"
   ]
  },
  {
   "cell_type": "code",
   "execution_count": null,
   "metadata": {},
   "outputs": [],
   "source": []
  }
 ],
 "metadata": {
  "kernelspec": {
   "display_name": "Python 3",
   "language": "python",
   "name": "python3"
  },
  "language_info": {
   "codemirror_mode": {
    "name": "ipython",
    "version": 3
   },
   "file_extension": ".py",
   "mimetype": "text/x-python",
   "name": "python",
   "nbconvert_exporter": "python",
   "pygments_lexer": "ipython3",
   "version": "3.6.7"
  }
 },
 "nbformat": 4,
 "nbformat_minor": 4
}
